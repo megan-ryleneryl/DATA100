{
 "cells": [
  {
   "cell_type": "markdown",
   "metadata": {},
   "source": [
    "# Exploring Pokemon Data\n",
    "In this Notebook, we will be exploring our first dataset - the [Pokemon](https://www.kaggle.com/mariotormo/complete-pokemon-dataset-updated-090420) data. In the process of exploring this data, we will be covering basics on reading, processing, analyzing, and visualizing simple tabular datasets.\n",
    "\n",
    "Our Notebooks in CSMODEL are designed to be guided learning activities. To use them, simply go through the cells from top to bottom, following the directions along the way. If you find any unclear parts or mistakes in the Notebooks, email your instructor."
   ]
  },
  {
   "cell_type": "markdown",
   "metadata": {},
   "source": [
    "## Instructions\n",
    "* Read each cell and implement the TODOs sequentially. The markdown/text cells also contain instructions which you need to follow to get the whole notebook working.\n",
    "* Do not change the variable names unless the instructor allows you to.\n",
    "* Answer all the markdown/text cells with 'Question #' on them. The answer must strictly consume one line only.\n",
    "* You are expected to search how to some functions work on the Internet or via the docs. \n",
    "* The notebooks will undergo a 'Restart and Run All' command, so make sure that your code is working properly.\n",
    "* You are expected to understand the dataset loading and processing separately from this class.\n",
    "* You may not reproduce this notebook or share them to anyone."
   ]
  },
  {
   "cell_type": "markdown",
   "metadata": {},
   "source": [
    "## `pandas` and `matplotlib`\n",
    "* **`pandas`** is a software library for Python that is designed for data manipulation and data analysis. \n",
    "* **`matplotlib`** is a software libary for data visualization, which allows us to easily render various types of graphs. \n",
    "\n",
    "We will be using these two libraries in this Notebook."
   ]
  },
  {
   "cell_type": "code",
   "execution_count": 9,
   "metadata": {},
   "outputs": [],
   "source": [
    "import numpy as np\n",
    "import pandas as pd\n",
    "import matplotlib.pyplot as plt\n",
    "\n",
    "# sets the theme of the charts\n",
    "plt.style.use('seaborn-v0_8-darkgrid')\n",
    "\n",
    "%matplotlib inline"
   ]
  },
  {
   "cell_type": "markdown",
   "metadata": {},
   "source": [
    "The `%matplotlib inline` command allows for the visualization charts from `matplotlib` to be automatically rendered and displayed in the Notebook.\n",
    "\n",
    "Additionally, you can also customize or choose the theme you'd like to use with `matplotlib` using the `plt.style.use()` command. See the [style sheets reference](https://matplotlib.org/stable/gallery/style_sheets/style_sheets_reference.html) from `matplotlib` for more options."
   ]
  },
  {
   "cell_type": "markdown",
   "metadata": {},
   "source": [
    "## The Dataset\n",
    "For this notebook, we will working on a dataset called `pokemon`. This dataset contains 890 known pokemon until 8th Generation and its varieties.\n",
    "\n",
    "The dataset is provided to you as a `.csv` file. `.csv` means comma-separated values. You can open the file in Notepad to see how it is exactly formatted."
   ]
  },
  {
   "cell_type": "markdown",
   "metadata": {},
   "source": [
    "If you view the `.csv` file in Excel, you can see that our dataset contains many **observations** (rows) across 48 **variables** (columns). The following are the descriptions of each variable in the dataset.\n",
    "\n",
    "- **`pokedex_number`**: entry number of the Pokemon in the National Pokedex\n",
    "- **`name`**: English name of the Pokemon\n",
    "- **`generation`**: numbered generation which the Pokemon was first introduced\n",
    "- **`status`**: denotes if the Pokemon is normal, sub legendary, legendary or mythical\n",
    "- **`species`**: category of the Pokemon\n",
    "- **`type_number`**: number of types that the Pokemon has\n",
    "- **`type_1`**: primary type of the Pokemon\n",
    "- **`type_2`**: secondary type of the Pokemon (if any)\n",
    "- **`height_m`**: height of the Pokemon in meters\n",
    "- **`weight_kg`**: weight of the Pokemon in kilograms\n",
    "- **`abilities_number`**: the number of abilities of the Pokemon\n",
    "- **`ability_1`**: ability of the Pokemon\n",
    "- **`ability_2`**: another ability of the Pokemon (if any)\n",
    "- **`ability_hidden`**: hidden ability of the Pokemon (if any)\n",
    "- **`total_points`**: total number of base points\n",
    "- **`hp`**: base HP of the Pokemon\n",
    "- **`attack`**: base attack of the Pokemon\n",
    "- **`defense`**: base defense of the Pokemon\n",
    "- **`sp_attack`**: base special attack of the pokemon\n",
    "- **`sp_defense`**: base special defense of the Pokemon\n",
    "- **`speed`**: base speed of the Pokemon\n",
    "- **`catch_rate`**: catch rate of the Pokemon\n",
    "- **`base_friendship`**: base friendship of the Pokemon\n",
    "- **`base_experience`**: base experience of a wild Pokemon when caught\n",
    "- **`growth_rate`**: growth rate of the Pokemon\n",
    "- **`egg_type_number`**: number of groups where a Pokemon can hatch\n",
    "- **`egg_type_1`**: name of an egg group where a Pokemon can hatch\n",
    "- **`egg_type_2`**: name of an egg group where a Pokemon can hatch\n",
    "- **`percentage_male`**: percentage of the species that are male, blank if the Pokemon is genderless.\n",
    "- **`egg_cycles`**: number of cycles (255-257 steps) required to hatch an egg of the Pokemon\n",
    "- **`against_normal`**: denote the amount of damage taken against an attack of a normal Pokemon\n",
    "- **`against_fire`**: denote the amount of damage taken against an attack of a fire Pokemon\n",
    "- **`against_water`**: denote the amount of damage taken against an attack of a water Pokemon\n",
    "- **`against_electric`**: denote the amount of damage taken against an attack of an electric Pokemon\n",
    "- **`against_grass`**: denote the amount of damage taken against an attack of a grass Pokemon\n",
    "- **`against_ice`**: denote the amount of damage taken against an attack of an ice Pokemon\n",
    "- **`against_fight`**: denote the amount of damage taken against an attack of a fighting Pokemon\n",
    "- **`against_poison`**: denote the amount of damage taken against an attack of a poison Pokemon\n",
    "- **`against_ground`**: denote the amount of damage taken against an attack of a ground Pokemon\n",
    "- **`against_flying`**: denote the amount of damage taken against an attack of a flying Pokemon\n",
    "- **`against_psychic`**: denote the amount of damage taken against an attack of a psychic Pokemon\n",
    "- **`against_bug`**: denote the amount of damage taken against an attack of a bug Pokemon\n",
    "- **`against_rock`**: denote the amount of damage taken against an attack of a rock Pokemon\n",
    "- **`against_ghost`**: denote the amount of damage taken against an attack of a ghost Pokemon\n",
    "- **`against_dragon`**: denote the amount of damage taken against an attack of a dragon Pokemon\n",
    "- **`against_dark`**: denote the amount of damage taken against an attack of a dark Pokemon\n",
    "- **`against_steel`**: denote the amount of damage taken against an attack of a steel Pokemon\n",
    "- **`against_fairy`**: denote the amount of damage taken against an attack of a fairy Pokemon"
   ]
  },
  {
   "cell_type": "markdown",
   "metadata": {},
   "source": [
    "## Reading the Dataset"
   ]
  },
  {
   "cell_type": "markdown",
   "metadata": {},
   "source": [
    "Our first step is to load the dataset using `pandas`. This will load the dataset into a pandas `DataFrame`. To load the dataset, we use the [`read_csv`](https://pandas.pydata.org/pandas-docs/stable/reference/api/pandas.read_csv.html) function. Note that you may need to change the path depending on the location of the file in your machine."
   ]
  },
  {
   "cell_type": "code",
   "execution_count": 11,
   "metadata": {},
   "outputs": [],
   "source": [
    "pokemon_df = pd.read_csv('pokemon.csv')"
   ]
  },
  {
   "cell_type": "markdown",
   "metadata": {},
   "source": [
    "The dataset should now be loaded in the `pokemon_df` variable. `pokemon_df` is a [`DataFrame`](https://pandas.pydata.org/pandas-docs/stable/reference/api/pandas.DataFrame.html). It is a data structure for storing tabular data, and the main data structure used in pandas."
   ]
  },
  {
   "cell_type": "markdown",
   "metadata": {},
   "source": [
    "Whenever we load a new dataset, it is generally a good idea to call the [`info`](https://pandas.pydata.org/pandas-docs/stable/reference/api/pandas.DataFrame.info.html) function, which displays general information about the dataset."
   ]
  },
  {
   "cell_type": "code",
   "execution_count": 13,
   "metadata": {},
   "outputs": [
    {
     "name": "stdout",
     "output_type": "stream",
     "text": [
      "<class 'pandas.core.frame.DataFrame'>\n",
      "RangeIndex: 1028 entries, 0 to 1027\n",
      "Data columns (total 48 columns):\n",
      " #   Column            Non-Null Count  Dtype  \n",
      "---  ------            --------------  -----  \n",
      " 0   pokedex_number    1028 non-null   int64  \n",
      " 1   name              1028 non-null   object \n",
      " 2   generation        1028 non-null   int64  \n",
      " 3   status            1028 non-null   object \n",
      " 4   species           1028 non-null   object \n",
      " 5   type_number       1028 non-null   int64  \n",
      " 6   type_1            1028 non-null   object \n",
      " 7   type_2            542 non-null    object \n",
      " 8   height_m          1028 non-null   float64\n",
      " 9   weight_kg         1027 non-null   float64\n",
      " 10  abilities_number  1028 non-null   int64  \n",
      " 11  ability_1         1025 non-null   object \n",
      " 12  ability_2         513 non-null    object \n",
      " 13  ability_hidden    810 non-null    object \n",
      " 14  total_points      1028 non-null   int64  \n",
      " 15  hp                1028 non-null   int64  \n",
      " 16  attack            1028 non-null   int64  \n",
      " 17  defense           1028 non-null   int64  \n",
      " 18  sp_attack         1028 non-null   int64  \n",
      " 19  sp_defense        1028 non-null   int64  \n",
      " 20  speed             1028 non-null   int64  \n",
      " 21  catch_rate        924 non-null    float64\n",
      " 22  base_friendship   924 non-null    float64\n",
      " 23  base_experience   924 non-null    float64\n",
      " 24  growth_rate       1027 non-null   object \n",
      " 25  egg_type_number   1028 non-null   int64  \n",
      " 26  egg_type_1        1025 non-null   object \n",
      " 27  egg_type_2        282 non-null    object \n",
      " 28  percentage_male   792 non-null    float64\n",
      " 29  egg_cycles        1027 non-null   float64\n",
      " 30  against_normal    1028 non-null   float64\n",
      " 31  against_fire      1028 non-null   float64\n",
      " 32  against_water     1028 non-null   float64\n",
      " 33  against_electric  1028 non-null   float64\n",
      " 34  against_grass     1028 non-null   float64\n",
      " 35  against_ice       1028 non-null   float64\n",
      " 36  against_fight     1028 non-null   float64\n",
      " 37  against_poison    1028 non-null   float64\n",
      " 38  against_ground    1028 non-null   float64\n",
      " 39  against_flying    1028 non-null   float64\n",
      " 40  against_psychic   1028 non-null   float64\n",
      " 41  against_bug       1028 non-null   float64\n",
      " 42  against_rock      1028 non-null   float64\n",
      " 43  against_ghost     1028 non-null   float64\n",
      " 44  against_dragon    1028 non-null   float64\n",
      " 45  against_dark      1028 non-null   float64\n",
      " 46  against_steel     1028 non-null   float64\n",
      " 47  against_fairy     1028 non-null   float64\n",
      "dtypes: float64(25), int64(12), object(11)\n",
      "memory usage: 385.6+ KB\n"
     ]
    }
   ],
   "source": [
    "pokemon_df.info()"
   ]
  },
  {
   "cell_type": "markdown",
   "metadata": {},
   "source": [
    "**Question #1:** How many observations are there in the dataset?\n",
    "\n",
    "Answer: 1028 observations"
   ]
  },
  {
   "cell_type": "markdown",
   "metadata": {},
   "source": [
    "**Question #2:** How many variables are there in the dataset?\n",
    "\n",
    "Answer: 48 variables"
   ]
  },
  {
   "cell_type": "markdown",
   "metadata": {},
   "source": [
    "**Question #3:** What is the data type of the `hp` column?\n",
    "\n",
    "Answer: int"
   ]
  },
  {
   "cell_type": "markdown",
   "metadata": {},
   "source": [
    "We can call the [`head`](https://pandas.pydata.org/pandas-docs/stable/reference/api/pandas.DataFrame.head.html) function to display the first `n` rows of the dataset."
   ]
  },
  {
   "cell_type": "code",
   "execution_count": null,
   "metadata": {},
   "outputs": [],
   "source": [
    "pokemon_df.head(10)"
   ]
  },
  {
   "cell_type": "markdown",
   "metadata": {},
   "source": [
    "We can call also call the [`tail`](https://pandas.pydata.org/pandas-docs/stable/reference/api/pandas.DataFrame.tail.html) function to display the last `n` rows of the dataset.\n",
    "\n",
    "Use the tail function to find out what is the type of the **last** row in the dataset."
   ]
  },
  {
   "cell_type": "code",
   "execution_count": 26,
   "metadata": {},
   "outputs": [
    {
     "data": {
      "text/plain": [
       "<bound method DataFrame.info of       pokedex_number                 name  generation     status  \\\n",
       "1027             890  Eternatus Eternamax           8  Legendary   \n",
       "\n",
       "               species  type_number  type_1  type_2  height_m  weight_kg  ...  \\\n",
       "1027  Gigantic Pokemon            2  Poison  Dragon     100.0        NaN  ...   \n",
       "\n",
       "      against_ground against_flying against_psychic against_bug  against_rock  \\\n",
       "1027             2.0            1.0             2.0         0.5           1.0   \n",
       "\n",
       "      against_ghost  against_dragon  against_dark  against_steel  \\\n",
       "1027            1.0             2.0           1.0            1.0   \n",
       "\n",
       "      against_fairy  \n",
       "1027            1.0  \n",
       "\n",
       "[1 rows x 48 columns]>"
      ]
     },
     "execution_count": 26,
     "metadata": {},
     "output_type": "execute_result"
    }
   ],
   "source": [
    "# Write your code here\n",
    "pokemon_df.tail(1).info"
   ]
  },
  {
   "cell_type": "markdown",
   "metadata": {},
   "source": [
    "**Question #4:** What is/are the type/s of the Pokemon in last row of the dataset?\n",
    "\n",
    "Answer: It is a Poison and Dragon type."
   ]
  },
  {
   "cell_type": "markdown",
   "metadata": {},
   "source": [
    "We can get the columns of the dataset by accessing the [`columns`](https://pandas.pydata.org/pandas-docs/stable/reference/api/pandas.DataFrame.columns.html) property of the `DataFrame`."
   ]
  },
  {
   "cell_type": "code",
   "execution_count": 28,
   "metadata": {},
   "outputs": [
    {
     "data": {
      "text/plain": [
       "Index(['pokedex_number', 'name', 'generation', 'status', 'species',\n",
       "       'type_number', 'type_1', 'type_2', 'height_m', 'weight_kg',\n",
       "       'abilities_number', 'ability_1', 'ability_2', 'ability_hidden',\n",
       "       'total_points', 'hp', 'attack', 'defense', 'sp_attack', 'sp_defense',\n",
       "       'speed', 'catch_rate', 'base_friendship', 'base_experience',\n",
       "       'growth_rate', 'egg_type_number', 'egg_type_1', 'egg_type_2',\n",
       "       'percentage_male', 'egg_cycles', 'against_normal', 'against_fire',\n",
       "       'against_water', 'against_electric', 'against_grass', 'against_ice',\n",
       "       'against_fight', 'against_poison', 'against_ground', 'against_flying',\n",
       "       'against_psychic', 'against_bug', 'against_rock', 'against_ghost',\n",
       "       'against_dragon', 'against_dark', 'against_steel', 'against_fairy'],\n",
       "      dtype='object')"
      ]
     },
     "execution_count": 28,
     "metadata": {},
     "output_type": "execute_result"
    }
   ],
   "source": [
    "pokemon_df.columns"
   ]
  },
  {
   "cell_type": "markdown",
   "metadata": {},
   "source": [
    "## Exploratory Data Analysis"
   ]
  },
  {
   "cell_type": "markdown",
   "metadata": {},
   "source": [
    "The `pokemon` dataframe is a massive trove of information. Let's think about some questions we might want to answer with these data."
   ]
  },
  {
   "cell_type": "markdown",
   "metadata": {},
   "source": [
    "### Which type has the highest number of Pokemons?"
   ]
  },
  {
   "cell_type": "markdown",
   "metadata": {},
   "source": [
    "To answer this question, the variable of interest is:\n",
    "- **`type_1`**: primary type of the Pokemon"
   ]
  },
  {
   "cell_type": "markdown",
   "metadata": {},
   "source": [
    "We can select a specific column from a `DataFrame` as a `Series` by using square brackets. For example, we can get the primary type of various Pokemon in the dataset by accessing the `type_1` column:"
   ]
  },
  {
   "cell_type": "code",
   "execution_count": null,
   "metadata": {},
   "outputs": [],
   "source": [
    "pokemon_df[\"type_1\"]"
   ]
  },
  {
   "cell_type": "markdown",
   "metadata": {},
   "source": [
    "Note that the data type of the column above is a `Series`."
   ]
  },
  {
   "cell_type": "code",
   "execution_count": null,
   "metadata": {},
   "outputs": [],
   "source": [
    "type(pokemon_df[\"type_1\"])"
   ]
  },
  {
   "cell_type": "markdown",
   "metadata": {},
   "source": [
    "Count the number of pokemon per primary type."
   ]
  },
  {
   "cell_type": "code",
   "execution_count": 30,
   "metadata": {},
   "outputs": [
    {
     "data": {
      "text/plain": [
       "type_1\n",
       "Water       134\n",
       "Normal      115\n",
       "Grass        91\n",
       "Bug          81\n",
       "Psychic      76\n",
       "Fire         65\n",
       "Electric     61\n",
       "Rock         60\n",
       "Dark         44\n",
       "Ground       41\n",
       "Ghost        41\n",
       "Dragon       40\n",
       "Poison       39\n",
       "Fighting     38\n",
       "Ice          36\n",
       "Steel        36\n",
       "Fairy        22\n",
       "Flying        8\n",
       "Name: count, dtype: int64"
      ]
     },
     "execution_count": 30,
     "metadata": {},
     "output_type": "execute_result"
    }
   ],
   "source": [
    "type_count_df = pokemon_df['type_1'].value_counts()\n",
    "type_count_df"
   ]
  },
  {
   "cell_type": "markdown",
   "metadata": {},
   "source": [
    "Bar plots are used to show the count of each value. They are only used for categorical data. Use the [`bar`](https://pandas.pydata.org/pandas-docs/stable/reference/api/pandas.DataFrame.plot.bar.html) function."
   ]
  },
  {
   "cell_type": "markdown",
   "metadata": {},
   "source": [
    "Let's create a plot to show the count per primary type of Pokemon."
   ]
  },
  {
   "cell_type": "code",
   "execution_count": 34,
   "metadata": {},
   "outputs": [
    {
     "data": {
      "image/png": "[encoded data removed]",
      "text/plain": [
       "<Figure size 600x700 with 1 Axes>"
      ]
     },
     "metadata": {},
     "output_type": "display_data"
    }
   ],
   "source": [
    "type_count_df.plot.barh(figsize=(6,7)).invert_yaxis()\n",
    "plt.xlabel('Primary Type')\n",
    "plt.ylabel('Count')\n",
    "plt.title('Pokemon count per primary type')\n",
    "plt.show()"
   ]
  },
  {
   "cell_type": "markdown",
   "metadata": {},
   "source": [
    "**Question #5:** What are the top 3 types with the highest Pokemon count?\n",
    "\n",
    "Answer: Water, Normal, and Grass."
   ]
  },
  {
   "cell_type": "markdown",
   "metadata": {},
   "source": [
    "### What is the average base HP of a specific type of Pokemon?"
   ]
  },
  {
   "cell_type": "markdown",
   "metadata": {},
   "source": [
    "To answer this question, the variables of interest are:\n",
    "- **`type_1`**: primary type of the Pokemon\n",
    "- **`hp`**: base HP of the Pokemon"
   ]
  },
  {
   "cell_type": "markdown",
   "metadata": {},
   "source": [
    "Write code to select the `hp` column as a series."
   ]
  },
  {
   "cell_type": "code",
   "execution_count": 36,
   "metadata": {},
   "outputs": [
    {
     "data": {
      "text/plain": [
       "0        45\n",
       "1        60\n",
       "2        80\n",
       "3        80\n",
       "4        39\n",
       "       ... \n",
       "1023     92\n",
       "1024     92\n",
       "1025     92\n",
       "1026    140\n",
       "1027    255\n",
       "Name: hp, Length: 1028, dtype: int64"
      ]
     },
     "execution_count": 36,
     "metadata": {},
     "output_type": "execute_result"
    }
   ],
   "source": [
    "# Write your code here\n",
    "pokemon_df['hp']"
   ]
  },
  {
   "cell_type": "markdown",
   "metadata": {},
   "source": [
    "We can also select a list of columns from the dataset by providing a list instead of the name of a single column. For example, we can select both the `type_1` and `hp` columns at the same time as follows:"
   ]
  },
  {
   "cell_type": "code",
   "execution_count": 38,
   "metadata": {},
   "outputs": [
    {
     "data": {
      "text/html": [
       "<div>\n",
       "<style scoped>\n",
       "    .dataframe tbody tr th:only-of-type {\n",
       "        vertical-align: middle;\n",
       "    }\n",
       "\n",
       "    .dataframe tbody tr th {\n",
       "        vertical-align: top;\n",
       "    }\n",
       "\n",
       "    .dataframe thead th {\n",
       "        text-align: right;\n",
       "    }\n",
       "</style>\n",
       "<table border=\"1\" class=\"dataframe\">\n",
       "  <thead>\n",
       "    <tr style=\"text-align: right;\">\n",
       "      <th></th>\n",
       "      <th>type_1</th>\n",
       "      <th>hp</th>\n",
       "    </tr>\n",
       "  </thead>\n",
       "  <tbody>\n",
       "    <tr>\n",
       "      <th>0</th>\n",
       "      <td>Grass</td>\n",
       "      <td>45</td>\n",
       "    </tr>\n",
       "    <tr>\n",
       "      <th>1</th>\n",
       "      <td>Grass</td>\n",
       "      <td>60</td>\n",
       "    </tr>\n",
       "    <tr>\n",
       "      <th>2</th>\n",
       "      <td>Grass</td>\n",
       "      <td>80</td>\n",
       "    </tr>\n",
       "    <tr>\n",
       "      <th>3</th>\n",
       "      <td>Grass</td>\n",
       "      <td>80</td>\n",
       "    </tr>\n",
       "    <tr>\n",
       "      <th>4</th>\n",
       "      <td>Fire</td>\n",
       "      <td>39</td>\n",
       "    </tr>\n",
       "    <tr>\n",
       "      <th>...</th>\n",
       "      <td>...</td>\n",
       "      <td>...</td>\n",
       "    </tr>\n",
       "    <tr>\n",
       "      <th>1023</th>\n",
       "      <td>Fairy</td>\n",
       "      <td>92</td>\n",
       "    </tr>\n",
       "    <tr>\n",
       "      <th>1024</th>\n",
       "      <td>Fighting</td>\n",
       "      <td>92</td>\n",
       "    </tr>\n",
       "    <tr>\n",
       "      <th>1025</th>\n",
       "      <td>Fighting</td>\n",
       "      <td>92</td>\n",
       "    </tr>\n",
       "    <tr>\n",
       "      <th>1026</th>\n",
       "      <td>Poison</td>\n",
       "      <td>140</td>\n",
       "    </tr>\n",
       "    <tr>\n",
       "      <th>1027</th>\n",
       "      <td>Poison</td>\n",
       "      <td>255</td>\n",
       "    </tr>\n",
       "  </tbody>\n",
       "</table>\n",
       "<p>1028 rows × 2 columns</p>\n",
       "</div>"
      ],
      "text/plain": [
       "        type_1   hp\n",
       "0        Grass   45\n",
       "1        Grass   60\n",
       "2        Grass   80\n",
       "3        Grass   80\n",
       "4         Fire   39\n",
       "...        ...  ...\n",
       "1023     Fairy   92\n",
       "1024  Fighting   92\n",
       "1025  Fighting   92\n",
       "1026    Poison  140\n",
       "1027    Poison  255\n",
       "\n",
       "[1028 rows x 2 columns]"
      ]
     },
     "execution_count": 38,
     "metadata": {},
     "output_type": "execute_result"
    }
   ],
   "source": [
    "pokemon_df[[\"type_1\", \"hp\"]]"
   ]
  },
  {
   "cell_type": "markdown",
   "metadata": {},
   "source": [
    "Note that by doing this, we are getting a `DataFrame` (albeit a smaller one) instead of a `Series`."
   ]
  },
  {
   "cell_type": "code",
   "execution_count": 40,
   "metadata": {},
   "outputs": [
    {
     "data": {
      "text/plain": [
       "pandas.core.frame.DataFrame"
      ]
     },
     "execution_count": 40,
     "metadata": {},
     "output_type": "execute_result"
    }
   ],
   "source": [
    "type(pokemon_df[[\"type_1\", \"hp\"]])"
   ]
  },
  {
   "cell_type": "markdown",
   "metadata": {},
   "source": [
    "A good way to get an understanding of numerical values in the dataset is to use a histogram. Let's use a histogram to visualize the weight of all Pokemons in the dataset. To do this, we will call the [`hist`](https://pandas.pydata.org/pandas-docs/stable/reference/api/pandas.DataFrame.hist.html) function of the `DataFrame` which in turn calls the appropriate matplotlib function.\n",
    "\n",
    "Note that we also call the [`show`](https://matplotlib.org/api/_as_gen/matplotlib.pyplot.show.html) function of matplotlib to display only the graph."
   ]
  },
  {
   "cell_type": "code",
   "execution_count": 46,
   "metadata": {},
   "outputs": [
    {
     "data": {
      "image/png": "[encoded data removed]",
      "text/plain": [
       "<Figure size 800x400 with 1 Axes>"
      ]
     },
     "metadata": {},
     "output_type": "display_data"
    }
   ],
   "source": [
    "pokemon_df.hist(\"weight_kg\", bins=30, edgecolor='w', figsize=(8, 4))\n",
    "plt.show()   # explicit call to show the chart (not needed with the matplotlib inline command)"
   ]
  },
  {
   "cell_type": "markdown",
   "metadata": {},
   "source": [
    "You can play around the `bins` parameter by changing its value above."
   ]
  },
  {
   "cell_type": "markdown",
   "metadata": {},
   "source": [
    "Let's say we want to investigate the base HP for normal Pokemons only. To do this, we have to consider **only the observations in which the `type_1` is `Normal`**."
   ]
  },
  {
   "cell_type": "code",
   "execution_count": null,
   "metadata": {},
   "outputs": [],
   "source": [
    "pokemon_df[pokemon_df[\"type_1\"] == \"Normal\"]"
   ]
  },
  {
   "cell_type": "markdown",
   "metadata": {},
   "source": [
    "As you can see, the above query resulted into a new `DataFrame` containing only the Pokemons where `type_1` is `Normal`. For now, we will assign this new `DataFrame` into a new variable for convenience."
   ]
  },
  {
   "cell_type": "code",
   "execution_count": 50,
   "metadata": {},
   "outputs": [],
   "source": [
    "normal_pokemon_df = pokemon_df[pokemon_df[\"type_1\"] == \"Normal\"]"
   ]
  },
  {
   "cell_type": "markdown",
   "metadata": {},
   "source": [
    "Plot a histogram of the base HP of normal Pokemons."
   ]
  },
  {
   "cell_type": "code",
   "execution_count": 52,
   "metadata": {},
   "outputs": [
    {
     "data": {
      "image/png": "[encoded data removed]",
      "text/plain": [
       "<Figure size 800x400 with 1 Axes>"
      ]
     },
     "metadata": {},
     "output_type": "display_data"
    }
   ],
   "source": [
    "# Write your code here\n",
    "normal_pokemon_df.hist(\"hp\", bins=30, edgecolor='w', figsize=(8, 4))\n",
    "plt.show()"
   ]
  },
  {
   "cell_type": "markdown",
   "metadata": {},
   "source": [
    "**Question #6:** Which best describes the shape of the distribution of the base HP of normal Pokemons? (a) symmetric (b) positively-skewed (c) negatively-skewed (d) uniform\n",
    "\n",
    "Answer: (a) Symmetric"
   ]
  },
  {
   "cell_type": "markdown",
   "metadata": {},
   "source": [
    "We can also aggregate some summary statistics regarding the base HP using the [`agg`](https://pandas.pydata.org/pandas-docs/stable/reference/api/pandas.DataFrame.agg.html) function. Note that for this function, we pass a dictionary where the key is a column name and the corresponding value is a list of functions that we want to apply to that column. We can pass either an actual function **or** a string containing the name of a common function such as `\"mean\"` or `\"std\"`. \n",
    "\n",
    "Get the mean, standard deviation and length of the `hp` column."
   ]
  },
  {
   "cell_type": "code",
   "execution_count": 54,
   "metadata": {},
   "outputs": [
    {
     "data": {
      "text/html": [
       "<div>\n",
       "<style scoped>\n",
       "    .dataframe tbody tr th:only-of-type {\n",
       "        vertical-align: middle;\n",
       "    }\n",
       "\n",
       "    .dataframe tbody tr th {\n",
       "        vertical-align: top;\n",
       "    }\n",
       "\n",
       "    .dataframe thead th {\n",
       "        text-align: right;\n",
       "    }\n",
       "</style>\n",
       "<table border=\"1\" class=\"dataframe\">\n",
       "  <thead>\n",
       "    <tr style=\"text-align: right;\">\n",
       "      <th></th>\n",
       "      <th>hp</th>\n",
       "    </tr>\n",
       "  </thead>\n",
       "  <tbody>\n",
       "    <tr>\n",
       "      <th>mean</th>\n",
       "      <td>77.052174</td>\n",
       "    </tr>\n",
       "    <tr>\n",
       "      <th>std</th>\n",
       "      <td>34.631606</td>\n",
       "    </tr>\n",
       "    <tr>\n",
       "      <th>count</th>\n",
       "      <td>115.000000</td>\n",
       "    </tr>\n",
       "  </tbody>\n",
       "</table>\n",
       "</div>"
      ],
      "text/plain": [
       "               hp\n",
       "mean    77.052174\n",
       "std     34.631606\n",
       "count  115.000000"
      ]
     },
     "execution_count": 54,
     "metadata": {},
     "output_type": "execute_result"
    }
   ],
   "source": [
    "normal_pokemon_df.agg({\"hp\": [\"mean\", \"std\", \"count\"]})"
   ]
  },
  {
   "cell_type": "markdown",
   "metadata": {},
   "source": [
    "Next, let's try to do the same thing for normal Pokemons which were introduced on or before the 5th generation. We can filter observations using multiple criteria by using `&` (and) and `|` (or). Note that these are not the normal `and` and `or` operators in Python. These are bitwise operators that perform element-wise operations on two boolean lists. "
   ]
  },
  {
   "cell_type": "code",
   "execution_count": 58,
   "metadata": {},
   "outputs": [
    {
     "data": {
      "text/html": [
       "<div>\n",
       "<style scoped>\n",
       "    .dataframe tbody tr th:only-of-type {\n",
       "        vertical-align: middle;\n",
       "    }\n",
       "\n",
       "    .dataframe tbody tr th {\n",
       "        vertical-align: top;\n",
       "    }\n",
       "\n",
       "    .dataframe thead th {\n",
       "        text-align: right;\n",
       "    }\n",
       "</style>\n",
       "<table border=\"1\" class=\"dataframe\">\n",
       "  <thead>\n",
       "    <tr style=\"text-align: right;\">\n",
       "      <th></th>\n",
       "      <th>pokedex_number</th>\n",
       "      <th>name</th>\n",
       "      <th>generation</th>\n",
       "      <th>status</th>\n",
       "      <th>species</th>\n",
       "      <th>type_number</th>\n",
       "      <th>type_1</th>\n",
       "      <th>type_2</th>\n",
       "      <th>height_m</th>\n",
       "      <th>weight_kg</th>\n",
       "      <th>...</th>\n",
       "      <th>against_ground</th>\n",
       "      <th>against_flying</th>\n",
       "      <th>against_psychic</th>\n",
       "      <th>against_bug</th>\n",
       "      <th>against_rock</th>\n",
       "      <th>against_ghost</th>\n",
       "      <th>against_dragon</th>\n",
       "      <th>against_dark</th>\n",
       "      <th>against_steel</th>\n",
       "      <th>against_fairy</th>\n",
       "    </tr>\n",
       "  </thead>\n",
       "  <tbody>\n",
       "    <tr>\n",
       "      <th>20</th>\n",
       "      <td>16</td>\n",
       "      <td>Pidgey</td>\n",
       "      <td>1</td>\n",
       "      <td>Normal</td>\n",
       "      <td>Tiny Bird Pokemon</td>\n",
       "      <td>2</td>\n",
       "      <td>Normal</td>\n",
       "      <td>Flying</td>\n",
       "      <td>0.3</td>\n",
       "      <td>1.8</td>\n",
       "      <td>...</td>\n",
       "      <td>0.0</td>\n",
       "      <td>1.0</td>\n",
       "      <td>1.0</td>\n",
       "      <td>0.5</td>\n",
       "      <td>2.0</td>\n",
       "      <td>0.0</td>\n",
       "      <td>1.0</td>\n",
       "      <td>1.0</td>\n",
       "      <td>1.0</td>\n",
       "      <td>1.0</td>\n",
       "    </tr>\n",
       "    <tr>\n",
       "      <th>21</th>\n",
       "      <td>17</td>\n",
       "      <td>Pidgeotto</td>\n",
       "      <td>1</td>\n",
       "      <td>Normal</td>\n",
       "      <td>Bird Pokemon</td>\n",
       "      <td>2</td>\n",
       "      <td>Normal</td>\n",
       "      <td>Flying</td>\n",
       "      <td>1.1</td>\n",
       "      <td>30.0</td>\n",
       "      <td>...</td>\n",
       "      <td>0.0</td>\n",
       "      <td>1.0</td>\n",
       "      <td>1.0</td>\n",
       "      <td>0.5</td>\n",
       "      <td>2.0</td>\n",
       "      <td>0.0</td>\n",
       "      <td>1.0</td>\n",
       "      <td>1.0</td>\n",
       "      <td>1.0</td>\n",
       "      <td>1.0</td>\n",
       "    </tr>\n",
       "    <tr>\n",
       "      <th>22</th>\n",
       "      <td>18</td>\n",
       "      <td>Pidgeot</td>\n",
       "      <td>1</td>\n",
       "      <td>Normal</td>\n",
       "      <td>Bird Pokemon</td>\n",
       "      <td>2</td>\n",
       "      <td>Normal</td>\n",
       "      <td>Flying</td>\n",
       "      <td>1.5</td>\n",
       "      <td>39.5</td>\n",
       "      <td>...</td>\n",
       "      <td>0.0</td>\n",
       "      <td>1.0</td>\n",
       "      <td>1.0</td>\n",
       "      <td>0.5</td>\n",
       "      <td>2.0</td>\n",
       "      <td>0.0</td>\n",
       "      <td>1.0</td>\n",
       "      <td>1.0</td>\n",
       "      <td>1.0</td>\n",
       "      <td>1.0</td>\n",
       "    </tr>\n",
       "    <tr>\n",
       "      <th>23</th>\n",
       "      <td>18</td>\n",
       "      <td>Mega Pidgeot</td>\n",
       "      <td>1</td>\n",
       "      <td>Normal</td>\n",
       "      <td>Bird Pokemon</td>\n",
       "      <td>2</td>\n",
       "      <td>Normal</td>\n",
       "      <td>Flying</td>\n",
       "      <td>2.2</td>\n",
       "      <td>50.5</td>\n",
       "      <td>...</td>\n",
       "      <td>0.0</td>\n",
       "      <td>1.0</td>\n",
       "      <td>1.0</td>\n",
       "      <td>0.5</td>\n",
       "      <td>2.0</td>\n",
       "      <td>0.0</td>\n",
       "      <td>1.0</td>\n",
       "      <td>1.0</td>\n",
       "      <td>1.0</td>\n",
       "      <td>1.0</td>\n",
       "    </tr>\n",
       "    <tr>\n",
       "      <th>24</th>\n",
       "      <td>19</td>\n",
       "      <td>Rattata</td>\n",
       "      <td>1</td>\n",
       "      <td>Normal</td>\n",
       "      <td>Mouse Pokemon</td>\n",
       "      <td>1</td>\n",
       "      <td>Normal</td>\n",
       "      <td>NaN</td>\n",
       "      <td>0.3</td>\n",
       "      <td>3.5</td>\n",
       "      <td>...</td>\n",
       "      <td>1.0</td>\n",
       "      <td>1.0</td>\n",
       "      <td>1.0</td>\n",
       "      <td>1.0</td>\n",
       "      <td>1.0</td>\n",
       "      <td>0.0</td>\n",
       "      <td>1.0</td>\n",
       "      <td>1.0</td>\n",
       "      <td>1.0</td>\n",
       "      <td>1.0</td>\n",
       "    </tr>\n",
       "    <tr>\n",
       "      <th>...</th>\n",
       "      <td>...</td>\n",
       "      <td>...</td>\n",
       "      <td>...</td>\n",
       "      <td>...</td>\n",
       "      <td>...</td>\n",
       "      <td>...</td>\n",
       "      <td>...</td>\n",
       "      <td>...</td>\n",
       "      <td>...</td>\n",
       "      <td>...</td>\n",
       "      <td>...</td>\n",
       "      <td>...</td>\n",
       "      <td>...</td>\n",
       "      <td>...</td>\n",
       "      <td>...</td>\n",
       "      <td>...</td>\n",
       "      <td>...</td>\n",
       "      <td>...</td>\n",
       "      <td>...</td>\n",
       "      <td>...</td>\n",
       "      <td>...</td>\n",
       "    </tr>\n",
       "    <tr>\n",
       "      <th>725</th>\n",
       "      <td>626</td>\n",
       "      <td>Bouffalant</td>\n",
       "      <td>5</td>\n",
       "      <td>Normal</td>\n",
       "      <td>Bash Buffalo Pokemon</td>\n",
       "      <td>1</td>\n",
       "      <td>Normal</td>\n",
       "      <td>NaN</td>\n",
       "      <td>1.6</td>\n",
       "      <td>94.6</td>\n",
       "      <td>...</td>\n",
       "      <td>1.0</td>\n",
       "      <td>1.0</td>\n",
       "      <td>1.0</td>\n",
       "      <td>1.0</td>\n",
       "      <td>1.0</td>\n",
       "      <td>0.0</td>\n",
       "      <td>1.0</td>\n",
       "      <td>1.0</td>\n",
       "      <td>1.0</td>\n",
       "      <td>1.0</td>\n",
       "    </tr>\n",
       "    <tr>\n",
       "      <th>726</th>\n",
       "      <td>627</td>\n",
       "      <td>Rufflet</td>\n",
       "      <td>5</td>\n",
       "      <td>Normal</td>\n",
       "      <td>Eaglet Pokemon</td>\n",
       "      <td>2</td>\n",
       "      <td>Normal</td>\n",
       "      <td>Flying</td>\n",
       "      <td>0.5</td>\n",
       "      <td>10.5</td>\n",
       "      <td>...</td>\n",
       "      <td>0.0</td>\n",
       "      <td>1.0</td>\n",
       "      <td>1.0</td>\n",
       "      <td>0.5</td>\n",
       "      <td>2.0</td>\n",
       "      <td>0.0</td>\n",
       "      <td>1.0</td>\n",
       "      <td>1.0</td>\n",
       "      <td>1.0</td>\n",
       "      <td>1.0</td>\n",
       "    </tr>\n",
       "    <tr>\n",
       "      <th>727</th>\n",
       "      <td>628</td>\n",
       "      <td>Braviary</td>\n",
       "      <td>5</td>\n",
       "      <td>Normal</td>\n",
       "      <td>Valiant Pokemon</td>\n",
       "      <td>2</td>\n",
       "      <td>Normal</td>\n",
       "      <td>Flying</td>\n",
       "      <td>1.5</td>\n",
       "      <td>41.0</td>\n",
       "      <td>...</td>\n",
       "      <td>0.0</td>\n",
       "      <td>1.0</td>\n",
       "      <td>1.0</td>\n",
       "      <td>0.5</td>\n",
       "      <td>2.0</td>\n",
       "      <td>0.0</td>\n",
       "      <td>1.0</td>\n",
       "      <td>1.0</td>\n",
       "      <td>1.0</td>\n",
       "      <td>1.0</td>\n",
       "    </tr>\n",
       "    <tr>\n",
       "      <th>753</th>\n",
       "      <td>648</td>\n",
       "      <td>Meloetta Aria Forme</td>\n",
       "      <td>5</td>\n",
       "      <td>Mythical</td>\n",
       "      <td>Melody Pokemon</td>\n",
       "      <td>2</td>\n",
       "      <td>Normal</td>\n",
       "      <td>Psychic</td>\n",
       "      <td>0.6</td>\n",
       "      <td>6.5</td>\n",
       "      <td>...</td>\n",
       "      <td>1.0</td>\n",
       "      <td>1.0</td>\n",
       "      <td>0.5</td>\n",
       "      <td>2.0</td>\n",
       "      <td>1.0</td>\n",
       "      <td>0.0</td>\n",
       "      <td>1.0</td>\n",
       "      <td>2.0</td>\n",
       "      <td>1.0</td>\n",
       "      <td>1.0</td>\n",
       "    </tr>\n",
       "    <tr>\n",
       "      <th>754</th>\n",
       "      <td>648</td>\n",
       "      <td>Meloetta Pirouette Forme</td>\n",
       "      <td>5</td>\n",
       "      <td>Mythical</td>\n",
       "      <td>Melody Pokemon</td>\n",
       "      <td>2</td>\n",
       "      <td>Normal</td>\n",
       "      <td>Fighting</td>\n",
       "      <td>0.6</td>\n",
       "      <td>6.5</td>\n",
       "      <td>...</td>\n",
       "      <td>1.0</td>\n",
       "      <td>2.0</td>\n",
       "      <td>2.0</td>\n",
       "      <td>0.5</td>\n",
       "      <td>0.5</td>\n",
       "      <td>0.0</td>\n",
       "      <td>1.0</td>\n",
       "      <td>0.5</td>\n",
       "      <td>1.0</td>\n",
       "      <td>2.0</td>\n",
       "    </tr>\n",
       "  </tbody>\n",
       "</table>\n",
       "<p>95 rows × 48 columns</p>\n",
       "</div>"
      ],
      "text/plain": [
       "     pokedex_number                      name  generation    status  \\\n",
       "20               16                    Pidgey           1    Normal   \n",
       "21               17                 Pidgeotto           1    Normal   \n",
       "22               18                   Pidgeot           1    Normal   \n",
       "23               18              Mega Pidgeot           1    Normal   \n",
       "24               19                   Rattata           1    Normal   \n",
       "..              ...                       ...         ...       ...   \n",
       "725             626                Bouffalant           5    Normal   \n",
       "726             627                   Rufflet           5    Normal   \n",
       "727             628                  Braviary           5    Normal   \n",
       "753             648       Meloetta Aria Forme           5  Mythical   \n",
       "754             648  Meloetta Pirouette Forme           5  Mythical   \n",
       "\n",
       "                  species  type_number  type_1    type_2  height_m  weight_kg  \\\n",
       "20      Tiny Bird Pokemon            2  Normal    Flying       0.3        1.8   \n",
       "21           Bird Pokemon            2  Normal    Flying       1.1       30.0   \n",
       "22           Bird Pokemon            2  Normal    Flying       1.5       39.5   \n",
       "23           Bird Pokemon            2  Normal    Flying       2.2       50.5   \n",
       "24          Mouse Pokemon            1  Normal       NaN       0.3        3.5   \n",
       "..                    ...          ...     ...       ...       ...        ...   \n",
       "725  Bash Buffalo Pokemon            1  Normal       NaN       1.6       94.6   \n",
       "726        Eaglet Pokemon            2  Normal    Flying       0.5       10.5   \n",
       "727       Valiant Pokemon            2  Normal    Flying       1.5       41.0   \n",
       "753        Melody Pokemon            2  Normal   Psychic       0.6        6.5   \n",
       "754        Melody Pokemon            2  Normal  Fighting       0.6        6.5   \n",
       "\n",
       "     ...  against_ground against_flying against_psychic against_bug  \\\n",
       "20   ...             0.0            1.0             1.0         0.5   \n",
       "21   ...             0.0            1.0             1.0         0.5   \n",
       "22   ...             0.0            1.0             1.0         0.5   \n",
       "23   ...             0.0            1.0             1.0         0.5   \n",
       "24   ...             1.0            1.0             1.0         1.0   \n",
       "..   ...             ...            ...             ...         ...   \n",
       "725  ...             1.0            1.0             1.0         1.0   \n",
       "726  ...             0.0            1.0             1.0         0.5   \n",
       "727  ...             0.0            1.0             1.0         0.5   \n",
       "753  ...             1.0            1.0             0.5         2.0   \n",
       "754  ...             1.0            2.0             2.0         0.5   \n",
       "\n",
       "     against_rock  against_ghost  against_dragon  against_dark  against_steel  \\\n",
       "20            2.0            0.0             1.0           1.0            1.0   \n",
       "21            2.0            0.0             1.0           1.0            1.0   \n",
       "22            2.0            0.0             1.0           1.0            1.0   \n",
       "23            2.0            0.0             1.0           1.0            1.0   \n",
       "24            1.0            0.0             1.0           1.0            1.0   \n",
       "..            ...            ...             ...           ...            ...   \n",
       "725           1.0            0.0             1.0           1.0            1.0   \n",
       "726           2.0            0.0             1.0           1.0            1.0   \n",
       "727           2.0            0.0             1.0           1.0            1.0   \n",
       "753           1.0            0.0             1.0           2.0            1.0   \n",
       "754           0.5            0.0             1.0           0.5            1.0   \n",
       "\n",
       "     against_fairy  \n",
       "20             1.0  \n",
       "21             1.0  \n",
       "22             1.0  \n",
       "23             1.0  \n",
       "24             1.0  \n",
       "..             ...  \n",
       "725            1.0  \n",
       "726            1.0  \n",
       "727            1.0  \n",
       "753            1.0  \n",
       "754            2.0  \n",
       "\n",
       "[95 rows x 48 columns]"
      ]
     },
     "execution_count": 58,
     "metadata": {},
     "output_type": "execute_result"
    }
   ],
   "source": [
    "normal_pokemon_5thgen_df = pokemon_df[(pokemon_df[\"type_1\"] == \"Normal\") & (pokemon_df[\"generation\"] <= 5)]\n",
    "normal_pokemon_5thgen_df"
   ]
  },
  {
   "cell_type": "markdown",
   "metadata": {},
   "source": [
    "Use the `agg` function to determine the **median** base HP of normal Pokemons introduced on or before the 5th generation."
   ]
  },
  {
   "cell_type": "code",
   "execution_count": 60,
   "metadata": {},
   "outputs": [
    {
     "data": {
      "text/plain": [
       "hp    70.0\n",
       "dtype: float64"
      ]
     },
     "execution_count": 60,
     "metadata": {},
     "output_type": "execute_result"
    }
   ],
   "source": [
    "# Write your code here\n",
    "normal_pokemon_5thgen_df.agg({ \"hp\" : \"median\" })"
   ]
  },
  {
   "cell_type": "markdown",
   "metadata": {},
   "source": [
    "**Question #7:** What is the median base HP of normal Pokemons introduced on or before the 5th generation? Limit to 2 decimal places.\n",
    "\n",
    "Answer: 70.00"
   ]
  },
  {
   "cell_type": "markdown",
   "metadata": {},
   "source": [
    "### Which type has the highest average base attack?"
   ]
  },
  {
   "cell_type": "markdown",
   "metadata": {},
   "source": [
    "To answer this question, the variables of interest are:\n",
    "- **`type_1`**: primary type of the Pokemon\n",
    "- **`attack`**: base attack of the Pokemon"
   ]
  },
  {
   "cell_type": "markdown",
   "metadata": {},
   "source": [
    "Sometimes, we may want to form groups in the datasets and compute summary statistics for each group. For instance, to determine which type has a highest average base attack in the dataset, we need to compute the average for each type.\n",
    "\n",
    "To do this, we can use the [`groupby`](https://pandas.pydata.org/pandas-docs/stable/reference/api/pandas.DataFrame.groupby.html) function. The function will group the dataset using the value of the provided column name."
   ]
  },
  {
   "cell_type": "code",
   "execution_count": null,
   "metadata": {},
   "outputs": [],
   "source": [
    "pokemon_df.groupby(\"type_1\")"
   ]
  },
  {
   "cell_type": "markdown",
   "metadata": {},
   "source": [
    "Get the mean and standard deviation of the base attack per Pokemon type."
   ]
  },
  {
   "cell_type": "code",
   "execution_count": null,
   "metadata": {},
   "outputs": [],
   "source": [
    "pokemon_df.groupby(\"type_1\").agg({\"attack\": [\"mean\", \"std\"]})"
   ]
  },
  {
   "cell_type": "markdown",
   "metadata": {},
   "source": [
    "You can sort a `DataFrame` by a column using the `sort_values` function. Sort the resulting table above in descending order to easily see which type has the highest average base attack."
   ]
  },
  {
   "cell_type": "code",
   "execution_count": 62,
   "metadata": {},
   "outputs": [
    {
     "data": {
      "text/html": [
       "<div>\n",
       "<style scoped>\n",
       "    .dataframe tbody tr th:only-of-type {\n",
       "        vertical-align: middle;\n",
       "    }\n",
       "\n",
       "    .dataframe tbody tr th {\n",
       "        vertical-align: top;\n",
       "    }\n",
       "\n",
       "    .dataframe thead tr th {\n",
       "        text-align: left;\n",
       "    }\n",
       "\n",
       "    .dataframe thead tr:last-of-type th {\n",
       "        text-align: right;\n",
       "    }\n",
       "</style>\n",
       "<table border=\"1\" class=\"dataframe\">\n",
       "  <thead>\n",
       "    <tr>\n",
       "      <th></th>\n",
       "      <th colspan=\"2\" halign=\"left\">attack</th>\n",
       "    </tr>\n",
       "    <tr>\n",
       "      <th></th>\n",
       "      <th>mean</th>\n",
       "      <th>std</th>\n",
       "    </tr>\n",
       "    <tr>\n",
       "      <th>type_1</th>\n",
       "      <th></th>\n",
       "      <th></th>\n",
       "    </tr>\n",
       "  </thead>\n",
       "  <tbody>\n",
       "    <tr>\n",
       "      <th>Dragon</th>\n",
       "      <td>107.200000</td>\n",
       "      <td>33.234366</td>\n",
       "    </tr>\n",
       "    <tr>\n",
       "      <th>Fighting</th>\n",
       "      <td>101.263158</td>\n",
       "      <td>27.410478</td>\n",
       "    </tr>\n",
       "    <tr>\n",
       "      <th>Ground</th>\n",
       "      <td>94.121951</td>\n",
       "      <td>31.464420</td>\n",
       "    </tr>\n",
       "    <tr>\n",
       "      <th>Steel</th>\n",
       "      <td>94.083333</td>\n",
       "      <td>29.246123</td>\n",
       "    </tr>\n",
       "    <tr>\n",
       "      <th>Rock</th>\n",
       "      <td>91.783333</td>\n",
       "      <td>33.662881</td>\n",
       "    </tr>\n",
       "    <tr>\n",
       "      <th>Fire</th>\n",
       "      <td>85.400000</td>\n",
       "      <td>27.457239</td>\n",
       "    </tr>\n",
       "    <tr>\n",
       "      <th>Dark</th>\n",
       "      <td>81.000000</td>\n",
       "      <td>28.408155</td>\n",
       "    </tr>\n",
       "    <tr>\n",
       "      <th>Ice</th>\n",
       "      <td>76.638889</td>\n",
       "      <td>31.689703</td>\n",
       "    </tr>\n",
       "    <tr>\n",
       "      <th>Poison</th>\n",
       "      <td>75.538462</td>\n",
       "      <td>20.041859</td>\n",
       "    </tr>\n",
       "    <tr>\n",
       "      <th>Normal</th>\n",
       "      <td>75.260870</td>\n",
       "      <td>29.639970</td>\n",
       "    </tr>\n",
       "    <tr>\n",
       "      <th>Flying</th>\n",
       "      <td>75.125000</td>\n",
       "      <td>27.689284</td>\n",
       "    </tr>\n",
       "    <tr>\n",
       "      <th>Water</th>\n",
       "      <td>74.992537</td>\n",
       "      <td>28.882832</td>\n",
       "    </tr>\n",
       "    <tr>\n",
       "      <th>Psychic</th>\n",
       "      <td>74.934211</td>\n",
       "      <td>42.136393</td>\n",
       "    </tr>\n",
       "    <tr>\n",
       "      <th>Grass</th>\n",
       "      <td>74.813187</td>\n",
       "      <td>29.331027</td>\n",
       "    </tr>\n",
       "    <tr>\n",
       "      <th>Electric</th>\n",
       "      <td>74.573770</td>\n",
       "      <td>24.471384</td>\n",
       "    </tr>\n",
       "    <tr>\n",
       "      <th>Ghost</th>\n",
       "      <td>74.195122</td>\n",
       "      <td>28.645436</td>\n",
       "    </tr>\n",
       "    <tr>\n",
       "      <th>Bug</th>\n",
       "      <td>71.074074</td>\n",
       "      <td>37.546231</td>\n",
       "    </tr>\n",
       "    <tr>\n",
       "      <th>Fairy</th>\n",
       "      <td>68.090909</td>\n",
       "      <td>37.938433</td>\n",
       "    </tr>\n",
       "  </tbody>\n",
       "</table>\n",
       "</div>"
      ],
      "text/plain": [
       "              attack           \n",
       "                mean        std\n",
       "type_1                         \n",
       "Dragon    107.200000  33.234366\n",
       "Fighting  101.263158  27.410478\n",
       "Ground     94.121951  31.464420\n",
       "Steel      94.083333  29.246123\n",
       "Rock       91.783333  33.662881\n",
       "Fire       85.400000  27.457239\n",
       "Dark       81.000000  28.408155\n",
       "Ice        76.638889  31.689703\n",
       "Poison     75.538462  20.041859\n",
       "Normal     75.260870  29.639970\n",
       "Flying     75.125000  27.689284\n",
       "Water      74.992537  28.882832\n",
       "Psychic    74.934211  42.136393\n",
       "Grass      74.813187  29.331027\n",
       "Electric   74.573770  24.471384\n",
       "Ghost      74.195122  28.645436\n",
       "Bug        71.074074  37.546231\n",
       "Fairy      68.090909  37.938433"
      ]
     },
     "execution_count": 62,
     "metadata": {},
     "output_type": "execute_result"
    }
   ],
   "source": [
    "mean_df = pokemon_df.groupby(\"type_1\").agg({\"attack\": [\"mean\", \"std\"]})\n",
    "mean_df.sort_values((\"attack\", \"mean\"), ascending=False)"
   ]
  },
  {
   "cell_type": "markdown",
   "metadata": {},
   "source": [
    "Note that `sort_value` accepts the variable name you want to sort as the parameter. In this case, we pass in the **tuple** `(\"attack\", \"mean\")` because if you look at the `DataFrame` in the previous cell, we have a hierharchical structure for the column names where the first level is `attack`, and the `mean` column is under that column."
   ]
  },
  {
   "cell_type": "markdown",
   "metadata": {},
   "source": [
    "Find out which type has the highest median base attack. Make sure to sort the median values per type in descending order."
   ]
  },
  {
   "cell_type": "code",
   "execution_count": 72,
   "metadata": {},
   "outputs": [
    {
     "data": {
      "text/html": [
       "<div>\n",
       "<style scoped>\n",
       "    .dataframe tbody tr th:only-of-type {\n",
       "        vertical-align: middle;\n",
       "    }\n",
       "\n",
       "    .dataframe tbody tr th {\n",
       "        vertical-align: top;\n",
       "    }\n",
       "\n",
       "    .dataframe thead th {\n",
       "        text-align: right;\n",
       "    }\n",
       "</style>\n",
       "<table border=\"1\" class=\"dataframe\">\n",
       "  <thead>\n",
       "    <tr style=\"text-align: right;\">\n",
       "      <th></th>\n",
       "      <th>attack</th>\n",
       "    </tr>\n",
       "    <tr>\n",
       "      <th>type_1</th>\n",
       "      <th></th>\n",
       "    </tr>\n",
       "  </thead>\n",
       "  <tbody>\n",
       "    <tr>\n",
       "      <th>Fighting</th>\n",
       "      <td>102.5</td>\n",
       "    </tr>\n",
       "    <tr>\n",
       "      <th>Dragon</th>\n",
       "      <td>100.0</td>\n",
       "    </tr>\n",
       "    <tr>\n",
       "      <th>Rock</th>\n",
       "      <td>95.0</td>\n",
       "    </tr>\n",
       "    <tr>\n",
       "      <th>Ground</th>\n",
       "      <td>95.0</td>\n",
       "    </tr>\n",
       "    <tr>\n",
       "      <th>Steel</th>\n",
       "      <td>90.0</td>\n",
       "    </tr>\n",
       "    <tr>\n",
       "      <th>Dark</th>\n",
       "      <td>85.0</td>\n",
       "    </tr>\n",
       "    <tr>\n",
       "      <th>Fire</th>\n",
       "      <td>84.0</td>\n",
       "    </tr>\n",
       "    <tr>\n",
       "      <th>Flying</th>\n",
       "      <td>77.5</td>\n",
       "    </tr>\n",
       "    <tr>\n",
       "      <th>Normal</th>\n",
       "      <td>75.0</td>\n",
       "    </tr>\n",
       "    <tr>\n",
       "      <th>Electric</th>\n",
       "      <td>75.0</td>\n",
       "    </tr>\n",
       "    <tr>\n",
       "      <th>Poison</th>\n",
       "      <td>73.0</td>\n",
       "    </tr>\n",
       "    <tr>\n",
       "      <th>Water</th>\n",
       "      <td>72.0</td>\n",
       "    </tr>\n",
       "    <tr>\n",
       "      <th>Grass</th>\n",
       "      <td>70.0</td>\n",
       "    </tr>\n",
       "    <tr>\n",
       "      <th>Ice</th>\n",
       "      <td>70.0</td>\n",
       "    </tr>\n",
       "    <tr>\n",
       "      <th>Ghost</th>\n",
       "      <td>66.0</td>\n",
       "    </tr>\n",
       "    <tr>\n",
       "      <th>Psychic</th>\n",
       "      <td>65.0</td>\n",
       "    </tr>\n",
       "    <tr>\n",
       "      <th>Bug</th>\n",
       "      <td>65.0</td>\n",
       "    </tr>\n",
       "    <tr>\n",
       "      <th>Fairy</th>\n",
       "      <td>56.0</td>\n",
       "    </tr>\n",
       "  </tbody>\n",
       "</table>\n",
       "</div>"
      ],
      "text/plain": [
       "          attack\n",
       "type_1          \n",
       "Fighting   102.5\n",
       "Dragon     100.0\n",
       "Rock        95.0\n",
       "Ground      95.0\n",
       "Steel       90.0\n",
       "Dark        85.0\n",
       "Fire        84.0\n",
       "Flying      77.5\n",
       "Normal      75.0\n",
       "Electric    75.0\n",
       "Poison      73.0\n",
       "Water       72.0\n",
       "Grass       70.0\n",
       "Ice         70.0\n",
       "Ghost       66.0\n",
       "Psychic     65.0\n",
       "Bug         65.0\n",
       "Fairy       56.0"
      ]
     },
     "execution_count": 72,
     "metadata": {},
     "output_type": "execute_result"
    }
   ],
   "source": [
    "# Write your code here\n",
    "median_df = pokemon_df.groupby(\"type_1\").agg({\"attack\":\"median\"})\n",
    "median_df.sort_values((\"attack\"), ascending=False)"
   ]
  },
  {
   "cell_type": "markdown",
   "metadata": {},
   "source": [
    "**Question #8:** If you can choose which Pokemon type to use, using only the average base attack as the basis for your decision, which type has the **best** average base attack?\n",
    "\n",
    "Answer: Dragon"
   ]
  },
  {
   "cell_type": "markdown",
   "metadata": {},
   "source": [
    "**Question #9:** In choosing the best Pokemon type according to base attack (previous question), would it be better to use mean or median? Why?\n",
    "\n",
    "Answer: I would opt to use the mean, because among all the wild dragon pokemon, there are more pokemon whose attack is around 107 pts, which increases my chances of getting a high-attack pokemon.  "
   ]
  },
  {
   "cell_type": "markdown",
   "metadata": {},
   "source": [
    "We can also visualize the base attack per type by using a side-by-side boxplot from the [`boxplot`](https://pandas.pydata.org/pandas-docs/stable/reference/api/pandas.DataFrame.boxplot.html) function of matplotlib. Notice that you can control the size of the figures in matplotlib using the `figsize` parameter (also works in other plots)."
   ]
  },
  {
   "cell_type": "code",
   "execution_count": 74,
   "metadata": {},
   "outputs": [
    {
     "data": {
      "image/png": "[encoded data removed]",
      "text/plain": [
       "<Figure size 1500x1000 with 1 Axes>"
      ]
     },
     "metadata": {},
     "output_type": "display_data"
    }
   ],
   "source": [
    "pokemon_df.boxplot(\"attack\", by=\"type_1\", figsize=(15, 10))\n",
    "plt.show()"
   ]
  },
  {
   "cell_type": "markdown",
   "metadata": {},
   "source": [
    "### Which type has the highest average base defense?"
   ]
  },
  {
   "cell_type": "markdown",
   "metadata": {},
   "source": [
    "To answer this question, the variables of interest are:\n",
    "- **`type_1`**: primary type of the Pokemon\n",
    "- **`defense`**: base defense of the Pokemon"
   ]
  },
  {
   "cell_type": "markdown",
   "metadata": {},
   "source": [
    "Get the mean and standard deviation of the base defense per Pokemon type."
   ]
  },
  {
   "cell_type": "code",
   "execution_count": 76,
   "metadata": {},
   "outputs": [],
   "source": [
    "# Write your code here\n",
    "mean_std_df = pokemon_df.groupby(\"type_1\").agg({\"defense\": [\"mean\", \"std\"]})"
   ]
  },
  {
   "cell_type": "markdown",
   "metadata": {},
   "source": [
    "Sort the resulting table above in descending order to easily see which type has the highest average base defense."
   ]
  },
  {
   "cell_type": "code",
   "execution_count": 78,
   "metadata": {},
   "outputs": [
    {
     "data": {
      "text/html": [
       "<div>\n",
       "<style scoped>\n",
       "    .dataframe tbody tr th:only-of-type {\n",
       "        vertical-align: middle;\n",
       "    }\n",
       "\n",
       "    .dataframe tbody tr th {\n",
       "        vertical-align: top;\n",
       "    }\n",
       "\n",
       "    .dataframe thead tr th {\n",
       "        text-align: left;\n",
       "    }\n",
       "\n",
       "    .dataframe thead tr:last-of-type th {\n",
       "        text-align: right;\n",
       "    }\n",
       "</style>\n",
       "<table border=\"1\" class=\"dataframe\">\n",
       "  <thead>\n",
       "    <tr>\n",
       "      <th></th>\n",
       "      <th colspan=\"2\" halign=\"left\">defense</th>\n",
       "    </tr>\n",
       "    <tr>\n",
       "      <th></th>\n",
       "      <th>mean</th>\n",
       "      <th>std</th>\n",
       "    </tr>\n",
       "    <tr>\n",
       "      <th>type_1</th>\n",
       "      <th></th>\n",
       "      <th></th>\n",
       "    </tr>\n",
       "  </thead>\n",
       "  <tbody>\n",
       "    <tr>\n",
       "      <th>Steel</th>\n",
       "      <td>117.388889</td>\n",
       "      <td>44.467823</td>\n",
       "    </tr>\n",
       "    <tr>\n",
       "      <th>Rock</th>\n",
       "      <td>97.966667</td>\n",
       "      <td>38.894890</td>\n",
       "    </tr>\n",
       "    <tr>\n",
       "      <th>Ground</th>\n",
       "      <td>85.463415</td>\n",
       "      <td>33.532147</td>\n",
       "    </tr>\n",
       "    <tr>\n",
       "      <th>Dragon</th>\n",
       "      <td>84.775000</td>\n",
       "      <td>25.787581</td>\n",
       "    </tr>\n",
       "    <tr>\n",
       "      <th>Ghost</th>\n",
       "      <td>80.439024</td>\n",
       "      <td>30.427823</td>\n",
       "    </tr>\n",
       "    <tr>\n",
       "      <th>Poison</th>\n",
       "      <td>76.179487</td>\n",
       "      <td>37.797154</td>\n",
       "    </tr>\n",
       "    <tr>\n",
       "      <th>Water</th>\n",
       "      <td>73.119403</td>\n",
       "      <td>27.893742</td>\n",
       "    </tr>\n",
       "    <tr>\n",
       "      <th>Fighting</th>\n",
       "      <td>72.210526</td>\n",
       "      <td>23.164696</td>\n",
       "    </tr>\n",
       "    <tr>\n",
       "      <th>Grass</th>\n",
       "      <td>71.824176</td>\n",
       "      <td>24.312134</td>\n",
       "    </tr>\n",
       "    <tr>\n",
       "      <th>Bug</th>\n",
       "      <td>71.802469</td>\n",
       "      <td>34.409817</td>\n",
       "    </tr>\n",
       "    <tr>\n",
       "      <th>Ice</th>\n",
       "      <td>71.083333</td>\n",
       "      <td>31.089158</td>\n",
       "    </tr>\n",
       "    <tr>\n",
       "      <th>Psychic</th>\n",
       "      <td>70.986842</td>\n",
       "      <td>28.431669</td>\n",
       "    </tr>\n",
       "    <tr>\n",
       "      <th>Fairy</th>\n",
       "      <td>70.545455</td>\n",
       "      <td>23.345699</td>\n",
       "    </tr>\n",
       "    <tr>\n",
       "      <th>Fire</th>\n",
       "      <td>68.107692</td>\n",
       "      <td>24.386294</td>\n",
       "    </tr>\n",
       "    <tr>\n",
       "      <th>Electric</th>\n",
       "      <td>66.508197</td>\n",
       "      <td>22.639658</td>\n",
       "    </tr>\n",
       "    <tr>\n",
       "      <th>Dark</th>\n",
       "      <td>64.977273</td>\n",
       "      <td>24.920794</td>\n",
       "    </tr>\n",
       "    <tr>\n",
       "      <th>Flying</th>\n",
       "      <td>64.375000</td>\n",
       "      <td>24.118384</td>\n",
       "    </tr>\n",
       "    <tr>\n",
       "      <th>Normal</th>\n",
       "      <td>61.173913</td>\n",
       "      <td>23.649213</td>\n",
       "    </tr>\n",
       "  </tbody>\n",
       "</table>\n",
       "</div>"
      ],
      "text/plain": [
       "             defense           \n",
       "                mean        std\n",
       "type_1                         \n",
       "Steel     117.388889  44.467823\n",
       "Rock       97.966667  38.894890\n",
       "Ground     85.463415  33.532147\n",
       "Dragon     84.775000  25.787581\n",
       "Ghost      80.439024  30.427823\n",
       "Poison     76.179487  37.797154\n",
       "Water      73.119403  27.893742\n",
       "Fighting   72.210526  23.164696\n",
       "Grass      71.824176  24.312134\n",
       "Bug        71.802469  34.409817\n",
       "Ice        71.083333  31.089158\n",
       "Psychic    70.986842  28.431669\n",
       "Fairy      70.545455  23.345699\n",
       "Fire       68.107692  24.386294\n",
       "Electric   66.508197  22.639658\n",
       "Dark       64.977273  24.920794\n",
       "Flying     64.375000  24.118384\n",
       "Normal     61.173913  23.649213"
      ]
     },
     "execution_count": 78,
     "metadata": {},
     "output_type": "execute_result"
    }
   ],
   "source": [
    "# Write your code here\n",
    "mean_std_df.sort_values((\"defense\", \"mean\"), ascending=False)"
   ]
  },
  {
   "cell_type": "markdown",
   "metadata": {},
   "source": [
    "Find out which type has the highest median base defense. Make sure to sort the median values per type in descending order."
   ]
  },
  {
   "cell_type": "code",
   "execution_count": 80,
   "metadata": {},
   "outputs": [
    {
     "data": {
      "text/html": [
       "<div>\n",
       "<style scoped>\n",
       "    .dataframe tbody tr th:only-of-type {\n",
       "        vertical-align: middle;\n",
       "    }\n",
       "\n",
       "    .dataframe tbody tr th {\n",
       "        vertical-align: top;\n",
       "    }\n",
       "\n",
       "    .dataframe thead th {\n",
       "        text-align: right;\n",
       "    }\n",
       "</style>\n",
       "<table border=\"1\" class=\"dataframe\">\n",
       "  <thead>\n",
       "    <tr style=\"text-align: right;\">\n",
       "      <th></th>\n",
       "      <th>defense</th>\n",
       "    </tr>\n",
       "    <tr>\n",
       "      <th>type_1</th>\n",
       "      <th></th>\n",
       "    </tr>\n",
       "  </thead>\n",
       "  <tbody>\n",
       "    <tr>\n",
       "      <th>Steel</th>\n",
       "      <td>115.0</td>\n",
       "    </tr>\n",
       "    <tr>\n",
       "      <th>Rock</th>\n",
       "      <td>98.5</td>\n",
       "    </tr>\n",
       "    <tr>\n",
       "      <th>Dragon</th>\n",
       "      <td>90.0</td>\n",
       "    </tr>\n",
       "    <tr>\n",
       "      <th>Ground</th>\n",
       "      <td>85.0</td>\n",
       "    </tr>\n",
       "    <tr>\n",
       "      <th>Ghost</th>\n",
       "      <td>75.0</td>\n",
       "    </tr>\n",
       "    <tr>\n",
       "      <th>Fighting</th>\n",
       "      <td>75.0</td>\n",
       "    </tr>\n",
       "    <tr>\n",
       "      <th>Grass</th>\n",
       "      <td>70.0</td>\n",
       "    </tr>\n",
       "    <tr>\n",
       "      <th>Ice</th>\n",
       "      <td>70.0</td>\n",
       "    </tr>\n",
       "    <tr>\n",
       "      <th>Water</th>\n",
       "      <td>70.0</td>\n",
       "    </tr>\n",
       "    <tr>\n",
       "      <th>Fairy</th>\n",
       "      <td>70.0</td>\n",
       "    </tr>\n",
       "    <tr>\n",
       "      <th>Poison</th>\n",
       "      <td>67.0</td>\n",
       "    </tr>\n",
       "    <tr>\n",
       "      <th>Electric</th>\n",
       "      <td>67.0</td>\n",
       "    </tr>\n",
       "    <tr>\n",
       "      <th>Fire</th>\n",
       "      <td>65.0</td>\n",
       "    </tr>\n",
       "    <tr>\n",
       "      <th>Psychic</th>\n",
       "      <td>65.0</td>\n",
       "    </tr>\n",
       "    <tr>\n",
       "      <th>Flying</th>\n",
       "      <td>62.5</td>\n",
       "    </tr>\n",
       "    <tr>\n",
       "      <th>Dark</th>\n",
       "      <td>60.0</td>\n",
       "    </tr>\n",
       "    <tr>\n",
       "      <th>Normal</th>\n",
       "      <td>60.0</td>\n",
       "    </tr>\n",
       "    <tr>\n",
       "      <th>Bug</th>\n",
       "      <td>60.0</td>\n",
       "    </tr>\n",
       "  </tbody>\n",
       "</table>\n",
       "</div>"
      ],
      "text/plain": [
       "          defense\n",
       "type_1           \n",
       "Steel       115.0\n",
       "Rock         98.5\n",
       "Dragon       90.0\n",
       "Ground       85.0\n",
       "Ghost        75.0\n",
       "Fighting     75.0\n",
       "Grass        70.0\n",
       "Ice          70.0\n",
       "Water        70.0\n",
       "Fairy        70.0\n",
       "Poison       67.0\n",
       "Electric     67.0\n",
       "Fire         65.0\n",
       "Psychic      65.0\n",
       "Flying       62.5\n",
       "Dark         60.0\n",
       "Normal       60.0\n",
       "Bug          60.0"
      ]
     },
     "execution_count": 80,
     "metadata": {},
     "output_type": "execute_result"
    }
   ],
   "source": [
    "# Write your code here\n",
    "median_df = pokemon_df.groupby(\"type_1\").agg({\"defense\": \"median\"})\n",
    "median_df.sort_values((\"defense\"), ascending=False)"
   ]
  },
  {
   "cell_type": "markdown",
   "metadata": {},
   "source": [
    "**Question #10:** Which type has the highest median base defense? What is its median base defense? Limit to 2 decimal places.\n",
    "\n",
    "Answer: Steel type, with base defense 115.00"
   ]
  },
  {
   "cell_type": "markdown",
   "metadata": {},
   "source": [
    "Visualize the base defense per type by using a side-by-side boxplot from the [`boxplot`](https://pandas.pydata.org/pandas-docs/stable/reference/api/pandas.DataFrame.boxplot.html) function of matplotlib. "
   ]
  },
  {
   "cell_type": "code",
   "execution_count": 82,
   "metadata": {},
   "outputs": [
    {
     "data": {
      "image/png": "[encoded data removed]",
      "text/plain": [
       "<Figure size 1500x1000 with 1 Axes>"
      ]
     },
     "metadata": {},
     "output_type": "display_data"
    }
   ],
   "source": [
    "# Write your code here\n",
    "pokemon_df.boxplot(\"defense\", by=\"type_1\", figsize=(15, 10))\n",
    "plt.show()"
   ]
  },
  {
   "cell_type": "markdown",
   "metadata": {},
   "source": [
    "**Question #11:** Based on the visualization alone, which type has the best base defense value? Why?\n",
    "\n",
    "Answer: Steel pokemon have the highest base defense. We can see that its boxblot lies significantly higher than all of its neighboring pokemon types."
   ]
  },
  {
   "cell_type": "markdown",
   "metadata": {},
   "source": [
    "### Is there a relationship between `hp`, `attack`, `defense`?\n",
    "\n",
    "To answer this question, the variables of interest are:\n",
    "- **`hp`**: base HP of the Pokemon\n",
    "- **`attack`**: base attack of the Pokemon\n",
    "- **`defense`**: base defense of the Pokemon"
   ]
  },
  {
   "cell_type": "code",
   "execution_count": 84,
   "metadata": {},
   "outputs": [
    {
     "data": {
      "text/html": [
       "<div>\n",
       "<style scoped>\n",
       "    .dataframe tbody tr th:only-of-type {\n",
       "        vertical-align: middle;\n",
       "    }\n",
       "\n",
       "    .dataframe tbody tr th {\n",
       "        vertical-align: top;\n",
       "    }\n",
       "\n",
       "    .dataframe thead th {\n",
       "        text-align: right;\n",
       "    }\n",
       "</style>\n",
       "<table border=\"1\" class=\"dataframe\">\n",
       "  <thead>\n",
       "    <tr style=\"text-align: right;\">\n",
       "      <th></th>\n",
       "      <th>hp</th>\n",
       "      <th>attack</th>\n",
       "      <th>defense</th>\n",
       "    </tr>\n",
       "  </thead>\n",
       "  <tbody>\n",
       "    <tr>\n",
       "      <th>0</th>\n",
       "      <td>45</td>\n",
       "      <td>49</td>\n",
       "      <td>49</td>\n",
       "    </tr>\n",
       "    <tr>\n",
       "      <th>1</th>\n",
       "      <td>60</td>\n",
       "      <td>62</td>\n",
       "      <td>63</td>\n",
       "    </tr>\n",
       "    <tr>\n",
       "      <th>2</th>\n",
       "      <td>80</td>\n",
       "      <td>82</td>\n",
       "      <td>83</td>\n",
       "    </tr>\n",
       "    <tr>\n",
       "      <th>3</th>\n",
       "      <td>80</td>\n",
       "      <td>100</td>\n",
       "      <td>123</td>\n",
       "    </tr>\n",
       "    <tr>\n",
       "      <th>4</th>\n",
       "      <td>39</td>\n",
       "      <td>52</td>\n",
       "      <td>43</td>\n",
       "    </tr>\n",
       "    <tr>\n",
       "      <th>...</th>\n",
       "      <td>...</td>\n",
       "      <td>...</td>\n",
       "      <td>...</td>\n",
       "    </tr>\n",
       "    <tr>\n",
       "      <th>1023</th>\n",
       "      <td>92</td>\n",
       "      <td>130</td>\n",
       "      <td>115</td>\n",
       "    </tr>\n",
       "    <tr>\n",
       "      <th>1024</th>\n",
       "      <td>92</td>\n",
       "      <td>130</td>\n",
       "      <td>145</td>\n",
       "    </tr>\n",
       "    <tr>\n",
       "      <th>1025</th>\n",
       "      <td>92</td>\n",
       "      <td>130</td>\n",
       "      <td>115</td>\n",
       "    </tr>\n",
       "    <tr>\n",
       "      <th>1026</th>\n",
       "      <td>140</td>\n",
       "      <td>85</td>\n",
       "      <td>95</td>\n",
       "    </tr>\n",
       "    <tr>\n",
       "      <th>1027</th>\n",
       "      <td>255</td>\n",
       "      <td>115</td>\n",
       "      <td>250</td>\n",
       "    </tr>\n",
       "  </tbody>\n",
       "</table>\n",
       "<p>1028 rows × 3 columns</p>\n",
       "</div>"
      ],
      "text/plain": [
       "       hp  attack  defense\n",
       "0      45      49       49\n",
       "1      60      62       63\n",
       "2      80      82       83\n",
       "3      80     100      123\n",
       "4      39      52       43\n",
       "...   ...     ...      ...\n",
       "1023   92     130      115\n",
       "1024   92     130      145\n",
       "1025   92     130      115\n",
       "1026  140      85       95\n",
       "1027  255     115      250\n",
       "\n",
       "[1028 rows x 3 columns]"
      ]
     },
     "execution_count": 84,
     "metadata": {},
     "output_type": "execute_result"
    }
   ],
   "source": [
    "hp_atk_def = pokemon_df[['hp', 'attack', 'defense']]\n",
    "hp_atk_def"
   ]
  },
  {
   "cell_type": "markdown",
   "metadata": {},
   "source": [
    "When we want to understand the relationship of different variables, typically numerical/continuous variables, we can get the correlation between the variables and check how they are related."
   ]
  },
  {
   "cell_type": "code",
   "execution_count": 86,
   "metadata": {},
   "outputs": [
    {
     "data": {
      "text/html": [
       "<div>\n",
       "<style scoped>\n",
       "    .dataframe tbody tr th:only-of-type {\n",
       "        vertical-align: middle;\n",
       "    }\n",
       "\n",
       "    .dataframe tbody tr th {\n",
       "        vertical-align: top;\n",
       "    }\n",
       "\n",
       "    .dataframe thead th {\n",
       "        text-align: right;\n",
       "    }\n",
       "</style>\n",
       "<table border=\"1\" class=\"dataframe\">\n",
       "  <thead>\n",
       "    <tr style=\"text-align: right;\">\n",
       "      <th></th>\n",
       "      <th>hp</th>\n",
       "      <th>attack</th>\n",
       "      <th>defense</th>\n",
       "    </tr>\n",
       "  </thead>\n",
       "  <tbody>\n",
       "    <tr>\n",
       "      <th>hp</th>\n",
       "      <td>1.000000</td>\n",
       "      <td>0.442992</td>\n",
       "      <td>0.302593</td>\n",
       "    </tr>\n",
       "    <tr>\n",
       "      <th>attack</th>\n",
       "      <td>0.442992</td>\n",
       "      <td>1.000000</td>\n",
       "      <td>0.450766</td>\n",
       "    </tr>\n",
       "    <tr>\n",
       "      <th>defense</th>\n",
       "      <td>0.302593</td>\n",
       "      <td>0.450766</td>\n",
       "      <td>1.000000</td>\n",
       "    </tr>\n",
       "  </tbody>\n",
       "</table>\n",
       "</div>"
      ],
      "text/plain": [
       "               hp    attack   defense\n",
       "hp       1.000000  0.442992  0.302593\n",
       "attack   0.442992  1.000000  0.450766\n",
       "defense  0.302593  0.450766  1.000000"
      ]
     },
     "execution_count": 86,
     "metadata": {},
     "output_type": "execute_result"
    }
   ],
   "source": [
    "hp_atk_def.corr()"
   ]
  },
  {
   "cell_type": "markdown",
   "metadata": {},
   "source": [
    "`pandas` has a built in `corr()` function which computes for the Pearson's correlation coefficient. The table created is called a correlation matrix.\n",
    "\n",
    "A good way to get a visual of the relationship of two variables is to use a scatter plot. Let's use a scatter plot to visualize the relationship of the HP and the attack stat of all Pokemons in the dataset.\n",
    "\n",
    "To do this, we can call the `scatter` function."
   ]
  },
  {
   "cell_type": "code",
   "execution_count": 90,
   "metadata": {},
   "outputs": [
    {
     "data": {
      "image/png": "[encoded data removed]",
      "text/plain": [
       "<Figure size 640x480 with 1 Axes>"
      ]
     },
     "metadata": {},
     "output_type": "display_data"
    },
    {
     "data": {
      "image/png": "[encoded data removed]",
      "text/plain": [
       "<Figure size 640x480 with 1 Axes>"
      ]
     },
     "metadata": {},
     "output_type": "display_data"
    }
   ],
   "source": [
    "hp_atk_def.plot.scatter(x='hp', y='attack', alpha=0.5)\n",
    "plt.title('Relationship of Pokemon HP and Attack')\n",
    "plt.show()"
   ]
  },
  {
   "cell_type": "markdown",
   "metadata": {},
   "source": [
    "From the correlation matrix above, the correlation of HP and attack is **0.442992**. It has a positive relationship, which means that as one value increases, the other value also increases. \n",
    "\n",
    "In most cases, to test whether the correlation is significant or not, a statistical test is performed. "
   ]
  },
  {
   "cell_type": "markdown",
   "metadata": {},
   "source": [
    "Now, let's look at the relationship of the Pokemons' attack and defense. \n",
    "\n",
    "Visualize the attack and defense of all Pokemons using a scatter plot."
   ]
  },
  {
   "cell_type": "code",
   "execution_count": 101,
   "metadata": {},
   "outputs": [
    {
     "data": {
      "image/png": "[encoded data removed]",
      "text/plain": [
       "<Figure size 640x480 with 1 Axes>"
      ]
     },
     "metadata": {},
     "output_type": "display_data"
    }
   ],
   "source": [
    "# Write your code here\n",
    "hp_atk_def.plot.scatter(x='attack', y='defense', alpha=0.5)\n",
    "plt.title('Relationship of Pokemon Attack and Defense')\n",
    "plt.show()"
   ]
  },
  {
   "cell_type": "markdown",
   "metadata": {},
   "source": [
    "**Question #12:** What can you say about the correlation of attack and defense? (a) positively correlated, (b) negatively correlated\n",
    "\n",
    "Answer: (a) positively correlated"
   ]
  },
  {
   "cell_type": "markdown",
   "metadata": {},
   "source": [
    "## Conclusions\n",
    "\n",
    "Given that the dataset is rich with information, there are a lot more information and relationships that you can extract from the dataset. Try looking at each variable and ask more questions that may interest you and visualize them to confirm or deny your initial hypothesis!"
   ]
  }
 ],
 "metadata": {
  "kernelspec": {
   "display_name": "Python 3 (ipykernel)",
   "language": "python",
   "name": "python3"
  },
  "language_info": {
   "codemirror_mode": {
    "name": "ipython",
    "version": 3
   },
   "file_extension": ".py",
   "mimetype": "text/x-python",
   "name": "python",
   "nbconvert_exporter": "python",
   "pygments_lexer": "ipython3",
   "version": "3.12.3"
  }
 },
 "nbformat": 4,
 "nbformat_minor": 4
}
